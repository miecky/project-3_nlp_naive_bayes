{
 "cells": [
  {
   "cell_type": "markdown",
   "metadata": {},
   "source": [
    "# Project 3 - Web APIs & Classification\n",
    "\n",
    "## Part 2 - EDA, Data Cleaning, & Feature Engineering"
   ]
  },
  {
   "cell_type": "markdown",
   "metadata": {},
   "source": [
    "### Table of Content\n",
    "\n",
    "- [2.0-Import Libraries](#2.0---Import-Libraries)\n",
    "- [2.1-Load Data and Create DF List](#2.1---Load-Data-and-Create-DF-List)\n",
    "- [2.2-Data Cleaning & Feature Engineering](#2.2---Data-Cleaning-&-Feature-Engineering)\n",
    "- [2.3-Store DF for Part 3](#2.3---Store-DF-for-Part-3)"
   ]
  },
  {
   "cell_type": "markdown",
   "metadata": {},
   "source": [
    "### 2.0 - Import Libraries"
   ]
  },
  {
   "cell_type": "code",
   "execution_count": 1,
   "metadata": {},
   "outputs": [],
   "source": [
    "import numpy as np\n",
    "import pandas as pd\n",
    "import matplotlib.pyplot as plt\n",
    "import seaborn as sns"
   ]
  },
  {
   "cell_type": "markdown",
   "metadata": {},
   "source": [
    "### 2.1 - Load Data and Create DF List"
   ]
  },
  {
   "cell_type": "code",
   "execution_count": 16,
   "metadata": {},
   "outputs": [],
   "source": [
    "# Import data and create df_list\n",
    "df_1 = pd.read_csv('./dataset/breastcancer.csv')\n",
    "df_2 = pd.read_csv('./dataset/airquality.csv')\n",
    "df_list = [df_1, df_2]"
   ]
  },
  {
   "cell_type": "code",
   "execution_count": 17,
   "metadata": {},
   "outputs": [
    {
     "name": "stdout",
     "output_type": "stream",
     "text": [
      "                                                data kind\n",
      "0  {'approved_at_utc': None, 'subreddit': 'breast...   t3\n",
      "1  {'approved_at_utc': None, 'subreddit': 'breast...   t3\n",
      "2  {'approved_at_utc': None, 'subreddit': 'breast...   t3\n",
      "3  {'approved_at_utc': None, 'subreddit': 'breast...   t3\n",
      "4  {'approved_at_utc': None, 'subreddit': 'breast...   t3\n",
      "\n",
      "                                                data kind\n",
      "0  {'approved_at_utc': None, 'subreddit': 'AirQua...   t3\n",
      "1  {'approved_at_utc': None, 'subreddit': 'AirQua...   t3\n",
      "2  {'approved_at_utc': None, 'subreddit': 'AirQua...   t3\n",
      "3  {'approved_at_utc': None, 'subreddit': 'AirQua...   t3\n",
      "4  {'approved_at_utc': None, 'subreddit': 'AirQua...   t3\n"
     ]
    }
   ],
   "source": [
    "# check first 5 rows of both dataframe\n",
    "print(df_1.head())\n",
    "print()\n",
    "print(df_2.head())"
   ]
  },
  {
   "cell_type": "markdown",
   "metadata": {},
   "source": [
    "### 2.2 - Data Cleaning & Feature Engineering\n",
    "\n",
    "> The data content for each post is a single string in JSON format. However, JSON string uses double quote. Therefore, **json.loads()** function will not work. I order to convert JSON string to **Dictionary**, use **ast.literal_eval()** instaed. "
   ]
  },
  {
   "cell_type": "code",
   "execution_count": 18,
   "metadata": {},
   "outputs": [],
   "source": [
    "# Function to build a new df with Post Title and Post Content\n",
    "'''Extract title, content, and engineer title + content\n",
    "   Input: pandas DataFrame\n",
    "   output: pandas DataFrame\n",
    "'''\n",
    "def extract_content(df):\n",
    "    from ast import literal_eval # use ast.literal_eval() to convert JSON string to dictionary\n",
    "    df['post_title'] = df['data'].apply(lambda x: literal_eval(x)['title'])\n",
    "    df['post_content'] = df['data'].apply(lambda x: literal_eval(x)['selftext'])\n",
    "    df['title_and_content'] = df['post_title'] + ' ' + df['post_content'] # engineer 'title_and_content' feature\n",
    "    return df[['post_title','post_content', 'title_and_content']]"
   ]
  },
  {
   "cell_type": "code",
   "execution_count": 19,
   "metadata": {},
   "outputs": [],
   "source": [
    "# Function to combine two dfs and assign binary classes\n",
    "'''Combine two df and assign classes and ready for pre-processing\n",
    "   Input: list of pandas DataFrame\n",
    "   output: pandas DataFrame (combiend)\n",
    "'''\n",
    "def classify_df(df_list):\n",
    "    df_combine = pd.DataFrame()\n",
    "    for i in range(len(df_list)):\n",
    "        df = extract_content(df_list[i]) \n",
    "        df['class'] = i\n",
    "        df_combine = pd.concat([df_combine, df], axis=0).reset_index(drop=True)\n",
    "        print(f'df_{i+1} size: {df_list[i].shape}')\n",
    "    print(f'df_to_process size: {df_combine.shape}')\n",
    "    return df_combine"
   ]
  },
  {
   "cell_type": "code",
   "execution_count": 20,
   "metadata": {},
   "outputs": [
    {
     "name": "stderr",
     "output_type": "stream",
     "text": [
      "/Users/kaizhao/anaconda3/lib/python3.7/site-packages/ipykernel_launcher.py:10: SettingWithCopyWarning: \n",
      "A value is trying to be set on a copy of a slice from a DataFrame.\n",
      "Try using .loc[row_indexer,col_indexer] = value instead\n",
      "\n",
      "See the caveats in the documentation: http://pandas.pydata.org/pandas-docs/stable/indexing.html#indexing-view-versus-copy\n",
      "  # Remove the CWD from sys.path while we load stuff.\n"
     ]
    },
    {
     "name": "stdout",
     "output_type": "stream",
     "text": [
      "df_1 size: (976, 5)\n",
      "df_2 size: (904, 5)\n",
      "df_to_process size: (1880, 4)\n"
     ]
    }
   ],
   "source": [
    "# Combine df and aissign classes\n",
    "df_to_preprocess = pd.DataFrame()\n",
    "df_to_preprocess = classify_df(df_list)"
   ]
  },
  {
   "cell_type": "code",
   "execution_count": 21,
   "metadata": {},
   "outputs": [
    {
     "data": {
      "text/html": [
       "<div>\n",
       "<style scoped>\n",
       "    .dataframe tbody tr th:only-of-type {\n",
       "        vertical-align: middle;\n",
       "    }\n",
       "\n",
       "    .dataframe tbody tr th {\n",
       "        vertical-align: top;\n",
       "    }\n",
       "\n",
       "    .dataframe thead th {\n",
       "        text-align: right;\n",
       "    }\n",
       "</style>\n",
       "<table border=\"1\" class=\"dataframe\">\n",
       "  <thead>\n",
       "    <tr style=\"text-align: right;\">\n",
       "      <th></th>\n",
       "      <th>post_title</th>\n",
       "      <th>post_content</th>\n",
       "      <th>title_and_content</th>\n",
       "      <th>class</th>\n",
       "    </tr>\n",
       "  </thead>\n",
       "  <tbody>\n",
       "    <tr>\n",
       "      <th>0</th>\n",
       "      <td>Halfway through chemo today!!!</td>\n",
       "      <td>So today marks my last dose of AC chemo before...</td>\n",
       "      <td>Halfway through chemo today!!! So today marks ...</td>\n",
       "      <td>0</td>\n",
       "    </tr>\n",
       "    <tr>\n",
       "      <th>1</th>\n",
       "      <td>Textured Implants have been recalled in France...</td>\n",
       "      <td></td>\n",
       "      <td>Textured Implants have been recalled in France...</td>\n",
       "      <td>0</td>\n",
       "    </tr>\n",
       "    <tr>\n",
       "      <th>2</th>\n",
       "      <td>Found this in my bra today. This is my sleep b...</td>\n",
       "      <td></td>\n",
       "      <td>Found this in my bra today. This is my sleep b...</td>\n",
       "      <td>0</td>\n",
       "    </tr>\n",
       "    <tr>\n",
       "      <th>3</th>\n",
       "      <td>Just found out my mom has cancer. Any advice?</td>\n",
       "      <td>I’m not very familiar with breast cancer. She ...</td>\n",
       "      <td>Just found out my mom has cancer. Any advice? ...</td>\n",
       "      <td>0</td>\n",
       "    </tr>\n",
       "    <tr>\n",
       "      <th>4</th>\n",
       "      <td>Called to go in for ultrasound</td>\n",
       "      <td>Hi all! Kind of long story so bear with me. Ab...</td>\n",
       "      <td>Called to go in for ultrasound Hi all! Kind of...</td>\n",
       "      <td>0</td>\n",
       "    </tr>\n",
       "  </tbody>\n",
       "</table>\n",
       "</div>"
      ],
      "text/plain": [
       "                                          post_title  \\\n",
       "0                     Halfway through chemo today!!!   \n",
       "1  Textured Implants have been recalled in France...   \n",
       "2  Found this in my bra today. This is my sleep b...   \n",
       "3      Just found out my mom has cancer. Any advice?   \n",
       "4                     Called to go in for ultrasound   \n",
       "\n",
       "                                        post_content  \\\n",
       "0  So today marks my last dose of AC chemo before...   \n",
       "1                                                      \n",
       "2                                                      \n",
       "3  I’m not very familiar with breast cancer. She ...   \n",
       "4  Hi all! Kind of long story so bear with me. Ab...   \n",
       "\n",
       "                                   title_and_content  class  \n",
       "0  Halfway through chemo today!!! So today marks ...      0  \n",
       "1  Textured Implants have been recalled in France...      0  \n",
       "2  Found this in my bra today. This is my sleep b...      0  \n",
       "3  Just found out my mom has cancer. Any advice? ...      0  \n",
       "4  Called to go in for ultrasound Hi all! Kind of...      0  "
      ]
     },
     "execution_count": 21,
     "metadata": {},
     "output_type": "execute_result"
    }
   ],
   "source": [
    "# Check first 5 rows of combined df\n",
    "df_to_preprocess.head()"
   ]
  },
  {
   "cell_type": "markdown",
   "metadata": {},
   "source": [
    "### 2.3 - Store DF for Part 3"
   ]
  },
  {
   "cell_type": "code",
   "execution_count": 22,
   "metadata": {},
   "outputs": [
    {
     "name": "stdout",
     "output_type": "stream",
     "text": [
      "Stored 'df_to_preprocess' (DataFrame)\n"
     ]
    }
   ],
   "source": [
    "# Store df_to_preprocess for Part 3\n",
    "%store df_to_preprocess"
   ]
  }
 ],
 "metadata": {
  "kernelspec": {
   "display_name": "Python 3",
   "language": "python",
   "name": "python3"
  },
  "language_info": {
   "codemirror_mode": {
    "name": "ipython",
    "version": 3
   },
   "file_extension": ".py",
   "mimetype": "text/x-python",
   "name": "python",
   "nbconvert_exporter": "python",
   "pygments_lexer": "ipython3",
   "version": "3.7.3"
  }
 },
 "nbformat": 4,
 "nbformat_minor": 2
}
